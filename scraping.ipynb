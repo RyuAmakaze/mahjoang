{
 "cells": [
  {
   "cell_type": "code",
   "execution_count": 1,
   "metadata": {},
   "outputs": [],
   "source": [
    "import requests\n",
    "import time\n",
    "\n",
    "ID = [\"68824437\",\"71170683\",\"71338763\",\"67114362\",\"73396683\",\"70823770\",\"72084939\",\"72053329\",\"67201335\",\"68961437\",\"75129400\"]\n",
    "name = [\"タカシ\",\"TEN31\",\"車の人\",\"灰百合\",\"家生えろ\",\"しきみ配信\",\"エイパム\",\"key1\",\"のん\",\"ozskbtn\",\"鳳条さん\"]\n",
    "mode = \"15.11\"#11:玉東，12:王東\n",
    "start_time = \"/1525497199999\"\n",
    "end_time = \"/1825497199999\"\n",
    "text = []"
   ]
  },
  {
   "cell_type": "code",
   "execution_count": 2,
   "metadata": {},
   "outputs": [
    {
     "name": "stdout",
     "output_type": "stream",
     "text": [
      "https://ak-data-2.sapk.ch/api/v2/pl4/player_extended_stats/68824437/1525497199999/1625497199999?mode=15.11\n",
      "タカシ : 847.0724179206567\n",
      "https://ak-data-2.sapk.ch/api/v2/pl4/player_extended_stats/71170683/1525497199999/1625497199999?mode=15.11\n",
      "TEN31 : 816.3243909115796\n",
      "https://ak-data-2.sapk.ch/api/v2/pl4/player_extended_stats/71338763/1525497199999/1625497199999?mode=15.11\n",
      "車の人 : 828.8792264800095\n",
      "https://ak-data-2.sapk.ch/api/v2/pl4/player_extended_stats/67114362/1525497199999/1625497199999?mode=15.11\n",
      "灰百合 : 756.5455009702789\n",
      "https://ak-data-2.sapk.ch/api/v2/pl4/player_extended_stats/73396683/1525497199999/1625497199999?mode=15.11\n",
      "家生えろ : 715.4065758232682\n",
      "https://ak-data-2.sapk.ch/api/v2/pl4/player_extended_stats/70823770/1525497199999/1625497199999?mode=15.11\n",
      "しきみ配信 : 866.1064459930312\n",
      "https://ak-data-2.sapk.ch/api/v2/pl4/player_extended_stats/72084939/1525497199999/1625497199999?mode=15.11\n",
      "エイパム : 734.6341022790439\n",
      "https://ak-data-2.sapk.ch/api/v2/pl4/player_extended_stats/72053329/1525497199999/1625497199999?mode=15.11\n",
      "key1 : 763.2037181996087\n",
      "https://ak-data-2.sapk.ch/api/v2/pl4/player_extended_stats/67201335/1525497199999/1625497199999?mode=15.11\n",
      "のん : 802.6782879818594\n",
      "https://ak-data-2.sapk.ch/api/v2/pl4/player_extended_stats/68961437/1525497199999/1625497199999?mode=15.11\n",
      "ozskbtn : 718.4808346032119\n",
      "https://ak-data-2.sapk.ch/api/v2/pl4/player_extended_stats/75129400/1525497199999/1625497199999?mode=15.11\n",
      "鳳条さん : 630.174231017423\n"
     ]
    }
   ],
   "source": [
    "import csv\n",
    "\n",
    "file = open('sample2.csv','w',newline=\"\")\n",
    "w = csv.writer(file)\n",
    "w.writerow([\"プレイヤー名\",\"局収支期待値\",\"和了率\",\"放銃率\",\"平均打点\",\"平均放銃点\",\"和放銃差\"])\n",
    "\n",
    "for i in range(len(ID)):\n",
    "    url = 'https://ak-data-2.sapk.ch/api/v2/pl4/player_extended_stats/'+ID[i]+start_time+end_time+'?mode='+mode\n",
    "    print(url)\n",
    "    response = requests.get(url)\n",
    "    text = response.text.split(',')\n",
    "    \n",
    "    hora = float(text[1].replace('\"和牌率\":',''))\n",
    "    houju = float(text[4].replace('\"放铳率\":',''))\n",
    "    daten = float(text[7].replace('\"平均打点\":',''))\n",
    "    daten_houju = float(text[10].replace('\"平均铳点\":',''))\n",
    "    \n",
    "    kyoku_shushi = hora*daten-houju*daten_houju\n",
    "    wahouju = hora- houju\n",
    "    print(name[i] + \" : \"+str(kyoku_shushi))\n",
    "    \n",
    "    #csvに書きだし\n",
    "    w.writerow([name[i],str(kyoku_shushi),str(hora),str(houju),str(daten),str(daten_houju),str(wahouju)])\n",
    "    \n",
    "file.close()"
   ]
  },
  {
   "cell_type": "code",
   "execution_count": 3,
   "metadata": {},
   "outputs": [
    {
     "data": {
      "text/plain": [
       "6"
      ]
     },
     "execution_count": 3,
     "metadata": {},
     "output_type": "execute_result"
    }
   ],
   "source": [
    "import csv\n",
    "import pprint\n",
    "file = open('sample.csv','w')\n",
    "w = csv.writer(file)\n",
    "w.writerow([\"hora\"])"
   ]
  },
  {
   "cell_type": "code",
   "execution_count": 48,
   "metadata": {},
   "outputs": [
    {
     "name": "stdout",
     "output_type": "stream",
     "text": [
      "{\"count\":9776\n",
      "\"和牌率\":0.23353109656301146\n",
      "\"自摸率\":0.3455978975032852\n",
      "\"默听率\":0.11957950065703023\n",
      "\"放铳率\":0.12796644844517185\n",
      "\"副露率\":0.3405278232405892\n",
      "\"立直率\":0.18453355155482815\n",
      "\"平均打点\":6176\n",
      "\"最大连庄\":6\n",
      "\"和了巡数\":12.038874288217258\n",
      "\"平均铳点\":5374\n",
      "\"流局率\":0.1201923076923077\n",
      "\"流听率\":0.45276595744680853\n",
      "\"一发率\":0.20382882882882883\n",
      "\"里宝率\":0.3333333333333333\n",
      "\"被炸率\":0.10494623655913979\n",
      "\"平均被炸点数\":10393\n",
      "\"放铳时立直率\":0.2006394884092726\n",
      "\"放铳时副露率\":0.34772182254196643\n",
      "\"立直后放铳率\":0.13913525498891352\n",
      "\"立直后非瞬间放铳率\":0.10476718403547672\n",
      "\"副露后放铳率\":0.1306698708320817\n",
      "\"立直后和牌率\":0.49223946784922396\n",
      "\"副露后和牌率\":0.3370381495944728\n",
      "\"立直后流局率\":0.1385809312638581\n",
      "0.23353109656301146\n"
     ]
    }
   ],
   "source": [
    "text = response.text.split(',')\n",
    "for i in range(len(text[i])):\n",
    "    print(text[i])\n",
    "print(text[1].replace('\"和牌率\":',''))"
   ]
  },
  {
   "cell_type": "code",
   "execution_count": 35,
   "metadata": {},
   "outputs": [
    {
     "name": "stdout",
     "output_type": "stream",
     "text": [
      "{\"count\":9776,\"和牌率\":0.23353109656301146,\"自摸率\":0.3455978975032852,\"默听率\":0.11957950065703023,\"放铳率\":0.12796644844517185,\"副露率\":0.3405278232405892,\"立直率\":0.18453355155482815,\"平均打点\":6176,\"最大连庄\":6,\"和了巡数\":12.038874288217258,\"平均铳点\":5374,\"流局率\":0.1201923076923077,\"流听率\":0.45276595744680853,\"一发率\":0.20382882882882883,\"里宝率\":0.3333333333333333,\"被炸率\":0.10494623655913979,\"平均被炸点数\":10393,\"放铳时立直率\":0.2006394884092726,\"放铳时副露率\":0.34772182254196643,\"立直后放铳率\":0.13913525498891352,\"立直后非瞬间放铳率\":0.10476718403547672,\"副露后放铳率\":0.1306698708320817,\"立直后和牌率\":0.49223946784922396,\"副露后和牌率\":0.3370381495944728,\"立直后流局率\":0.1385809312638581,\"副露后流局率\":0.11775307900270351,\"放铳至立直\":438,\"放铳至副露\":678,\"放铳至默听\":154,\"立直和了\":888,\"副露和了\":1122,\"默听和了\":273,\"立直巡目\":9.310282705099779,\"立直收支\":2707,\"立直收入\":7713,\"立直支出\":6992,\"先制率\":0.8087583148558758,\"追立率\":0.19124168514412418,\"被追率\":0.184589800443459,\"振听立直率\":0.004434589800443459,\"役满\":2,\"最大累计番数\":11,\"W立直\":2,\"流满\":2,\"平均起手向听\":3.486395253682488,\"最近大铳\":{\"id\":\"210323-b19b5509-164d-453f-a127-6af2e0473a50\",\"start_time\":1616506136,\"fans\":[{\"id\":2,\"label\":\"立直\",\"count\":1,\"役满\":0},{\"id\":30,\"label\":\"一发\",\"count\":1,\"役满\":0},{\"id\":31,\"label\":\"宝牌\",\"count\":2,\"役满\":0},{\"id\":32,\"label\":\"红宝牌\",\"count\":2,\"役满\":0},{\"id\":33,\"label\":\"里宝牌\",\"count\":3,\"役满\":0}]},\"id\":67114362,\"played_modes\":[15,11]}\n"
     ]
    }
   ],
   "source": [
    "\n",
    "import bs4\n",
    "soup = bs4.BeautifulSoup(response.text, \"html.parser\")\n",
    "print(soup)"
   ]
  },
  {
   "cell_type": "code",
   "execution_count": 36,
   "metadata": {},
   "outputs": [
    {
     "data": {
      "text/plain": [
       "[]"
      ]
     },
     "execution_count": 36,
     "metadata": {},
     "output_type": "execute_result"
    }
   ],
   "source": [
    "elems = soup.find_all(\"\")\n",
    "elems"
   ]
  },
  {
   "cell_type": "code",
   "execution_count": 27,
   "metadata": {},
   "outputs": [
    {
     "data": {
      "text/plain": [
       "[]"
      ]
     },
     "execution_count": 27,
     "metadata": {},
     "output_type": "execute_result"
    }
   ],
   "source": [
    "import re\n",
    "elems = soup.find_all(href=re.compile(\"1\"))\n",
    "elems"
   ]
  },
  {
   "cell_type": "code",
   "execution_count": null,
   "metadata": {},
   "outputs": [],
   "source": []
  }
 ],
 "metadata": {
  "kernelspec": {
   "display_name": "Python 3",
   "language": "python",
   "name": "python3"
  },
  "language_info": {
   "codemirror_mode": {
    "name": "ipython",
    "version": 3
   },
   "file_extension": ".py",
   "mimetype": "text/x-python",
   "name": "python",
   "nbconvert_exporter": "python",
   "pygments_lexer": "ipython3",
   "version": "3.7.1"
  }
 },
 "nbformat": 4,
 "nbformat_minor": 2
}
