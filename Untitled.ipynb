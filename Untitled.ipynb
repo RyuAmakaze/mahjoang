{
 "cells": [
  {
   "cell_type": "code",
   "execution_count": 6,
   "metadata": {},
   "outputs": [],
   "source": [
    "import requests\n",
    "import json5"
   ]
  },
  {
   "cell_type": "code",
   "execution_count": 16,
   "metadata": {},
   "outputs": [
    {
     "name": "stdout",
     "output_type": "stream",
     "text": [
      "{\"count\":2026,\"level\":{\"id\":10502,\"score\":2560,\"delta\":77},\"max_level\":{\"id\":10502,\"score\":4014,\"delta\":76},\"rank_rates\":[0.25765054294175715,0.2773938795656466,0.2665350444225074,0.19842053307008883],\"rank_avg_score\":[38349,27763,21301,13372],\"avg_rank\":2.405725567620928,\"negative_rate\":0.007403751233958539,\"id\":68824437,\"nickname\":\"オグラタカシ\",\"played_modes\":[11]}\n",
      "2026\n",
      "11281\n",
      "163.90993706231762\n",
      "912.6692991115524\n"
     ]
    }
   ],
   "source": [
    "res = requests.get(\"https://ak-data-2.sapk.ch/api/v2/pl4/player_stats/68824437/1525497199999/1625497199999?mode=11\")\n",
    "res_ext = requests.get(\"https://ak-data-2.sapk.ch/api/v2/pl4/player_extended_stats/68824437/1525497199999/1625497199999?mode=11\")\n",
    "\n",
    "print(res.text)\n",
    "j = json5.loads(res.text)\n",
    "j_ext = json5.loads(res_ext.text)\n",
    "\n",
    "print(j[\"count\"])\n",
    "print(j_ext[\"count\"])\n",
    "\n",
    "game_shushi = 0\n",
    "for i,rate in enumerate(j[\"rank_rates\"]):\n",
    "    game_shushi += rate*j[\"rank_avg_score\"][i]\n",
    "    \n",
    "kyoku_shushi = (game_shushi-25000)*j[\"count\"]/j_ext[\"count\"]\n",
    "print(kyoku_shushi)\n",
    "print(game_shushi-25000)"
   ]
  },
  {
   "cell_type": "code",
   "execution_count": null,
   "metadata": {},
   "outputs": [],
   "source": []
  }
 ],
 "metadata": {
  "kernelspec": {
   "display_name": "Python 3",
   "language": "python",
   "name": "python3"
  },
  "language_info": {
   "codemirror_mode": {
    "name": "ipython",
    "version": 3
   },
   "file_extension": ".py",
   "mimetype": "text/x-python",
   "name": "python",
   "nbconvert_exporter": "python",
   "pygments_lexer": "ipython3",
   "version": "3.7.1"
  }
 },
 "nbformat": 4,
 "nbformat_minor": 2
}
