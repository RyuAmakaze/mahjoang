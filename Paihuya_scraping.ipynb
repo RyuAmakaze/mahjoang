{
 "cells": [
  {
   "cell_type": "code",
   "execution_count": 1,
   "metadata": {},
   "outputs": [],
   "source": [
    "import requests\n",
    "import time\n",
    "\n",
    "ID = [\"68824437\",\"71170683\",\"71338763\",\"67114362\",\"73396683\",\"70823770\",\"72084939\",\"72053329\",\"67201335\",\"68961437\",\"75129400\"]\n",
    "name = [\"タカシ\",\"TEN31\",\"車の人\",\"灰百合\",\"家生えろ\",\"しきみ配信\",\"エイパム\",\"key1\",\"のん\",\"ozskbtn\",\"鳳条さん\"]\n",
    "mode = \"15.11\"#11:玉東，12:王東\n",
    "start_time = \"/1525497199999\"\n",
    "end_time = \"/1625497199999\"\n",
    "filename = \"玉東メンバーの局収支期待値\"\n",
    "text = []"
   ]
  },
  {
   "cell_type": "code",
   "execution_count": 2,
   "metadata": {},
   "outputs": [
    {
     "name": "stdout",
     "output_type": "stream",
     "text": [
      "https://ak-data-2.sapk.ch/api/v2/pl4/player_extended_stats/68824437/1525497199999/1625497199999?mode=15.11\n",
      "タカシ : 847.0724179206567\n",
      "https://ak-data-2.sapk.ch/api/v2/pl4/player_extended_stats/71170683/1525497199999/1625497199999?mode=15.11\n",
      "TEN31 : 816.3243909115796\n",
      "https://ak-data-2.sapk.ch/api/v2/pl4/player_extended_stats/71338763/1525497199999/1625497199999?mode=15.11\n",
      "車の人 : 828.8792264800095\n",
      "https://ak-data-2.sapk.ch/api/v2/pl4/player_extended_stats/67114362/1525497199999/1625497199999?mode=15.11\n",
      "灰百合 : 756.5455009702789\n",
      "https://ak-data-2.sapk.ch/api/v2/pl4/player_extended_stats/73396683/1525497199999/1625497199999?mode=15.11\n",
      "家生えろ : 715.4065758232682\n",
      "https://ak-data-2.sapk.ch/api/v2/pl4/player_extended_stats/70823770/1525497199999/1625497199999?mode=15.11\n",
      "しきみ配信 : 866.1064459930312\n",
      "https://ak-data-2.sapk.ch/api/v2/pl4/player_extended_stats/72084939/1525497199999/1625497199999?mode=15.11\n",
      "エイパム : 734.6341022790439\n",
      "https://ak-data-2.sapk.ch/api/v2/pl4/player_extended_stats/72053329/1525497199999/1625497199999?mode=15.11\n",
      "key1 : 763.2037181996087\n",
      "https://ak-data-2.sapk.ch/api/v2/pl4/player_extended_stats/67201335/1525497199999/1625497199999?mode=15.11\n",
      "のん : 802.6782879818594\n",
      "https://ak-data-2.sapk.ch/api/v2/pl4/player_extended_stats/68961437/1525497199999/1625497199999?mode=15.11\n",
      "ozskbtn : 718.4808346032119\n",
      "https://ak-data-2.sapk.ch/api/v2/pl4/player_extended_stats/75129400/1525497199999/1625497199999?mode=15.11\n",
      "鳳条さん : 630.174231017423\n"
     ]
    }
   ],
   "source": [
    "import csv\n",
    "\n",
    "file = open(filename+'.csv','w',newline=\"\")\n",
    "w = csv.writer(file)\n",
    "w.writerow([\"プレイヤー名\",\"局収支期待値\",\"和了率\",\"放銃率\",\"平均打点\",\"平均放銃点\",\"和放銃差\"])\n",
    "\n",
    "for i in range(len(ID)):\n",
    "    url = 'https://ak-data-2.sapk.ch/api/v2/pl4/player_extended_stats/'+ID[i]+start_time+end_time+'?mode='+mode\n",
    "    print(url)\n",
    "    response = requests.get(url)\n",
    "    text = response.text.split(',')\n",
    "    \n",
    "    hora = float(text[1].replace('\"和牌率\":',''))\n",
    "    houju = float(text[4].replace('\"放铳率\":',''))\n",
    "    daten = float(text[7].replace('\"平均打点\":',''))\n",
    "    daten_houju = float(text[10].replace('\"平均铳点\":',''))\n",
    "    \n",
    "    kyoku_shushi = hora*daten-houju*daten_houju\n",
    "    wahouju = hora- houju\n",
    "    print(name[i] + \" : \"+str(kyoku_shushi))\n",
    "    \n",
    "    #csvに書きだし\n",
    "    w.writerow([name[i],str(kyoku_shushi),str(hora),str(houju),str(daten),str(daten_houju),str(wahouju)])\n",
    "    \n",
    "file.close()"
   ]
  },
  {
   "cell_type": "code",
   "execution_count": null,
   "metadata": {},
   "outputs": [],
   "source": []
  }
 ],
 "metadata": {
  "kernelspec": {
   "display_name": "Python 3",
   "language": "python",
   "name": "python3"
  },
  "language_info": {
   "codemirror_mode": {
    "name": "ipython",
    "version": 3
   },
   "file_extension": ".py",
   "mimetype": "text/x-python",
   "name": "python",
   "nbconvert_exporter": "python",
   "pygments_lexer": "ipython3",
   "version": "3.7.3"
  }
 },
 "nbformat": 4,
 "nbformat_minor": 2
}
